{
 "cells": [
  {
   "cell_type": "markdown",
   "metadata": {},
   "source": [
    "# Induced Seismicity\n",
    "\n",
    "**Fill me in!**"
   ]
  },
  {
   "cell_type": "code",
   "execution_count": null,
   "metadata": {
    "collapsed": true
   },
   "outputs": [],
   "source": [
    "# Put all scripts that should be loaded here\n",
    "%load simulate.py"
   ]
  },
  {
   "cell_type": "code",
   "execution_count": 1,
   "metadata": {
    "collapsed": true
   },
   "outputs": [],
   "source": [
    "import numpy as np\n",
    "\n",
    "def dot_normalized(ranks1, ranks2, lag=0, use_zeros=False):\n",
    "    \"\"\"\n",
    "    Shifts `ranks2` forward by `lag` number of entries.\n",
    "    Removes the tail ends of the rank vectors that fall off\n",
    "    after shifting. Then returns the dot product normalized\n",
    "    by the number of entries that were used in the dot.\n",
    "    For instance, suppose\n",
    "         ranks1  = [1, 2, 3, 4]\n",
    "         ranks2  = [4, 3, 2, 1]\n",
    "         lag     = 2.\n",
    "    After shifting and removing the fall off, we have\n",
    "         ranks1' = [3, 4]\n",
    "         ranks2' = [4, 3]\n",
    "    The normalized dot is (3 * 4 + 4 * 3) / 2.\n",
    "\n",
    "    Assumes that len(ranks1) == len(ranks2) and all ranks\n",
    "    are non-negative.\n",
    "\n",
    "    Args:\n",
    "        ranks1    (1D np.array) : Ranks for first dataset\n",
    "        ranks2    (1D np.array) : Ranks for second dataset\n",
    "        lag       (int)         : Number of entries to shift\n",
    "        use_zeros (bool)        : Use zeros in rank vectors\n",
    "                                  for normalizing\n",
    "    Returns:\n",
    "        Normalized dot product after shifting by `lag`\n",
    "    \"\"\"\n",
    "    assert len(ranks1) == len(ranks2), \\\n",
    "           \"Rank vectors are not the same length\"\n",
    "\n",
    "    # Count the number of entries that would be zeroed out\n",
    "    # in either vector\n",
    "    num_zeros = 0\n",
    "    if not use_zeros:\n",
    "        num_zeros = np.sum((ranks1 * ranks2) == 0)\n",
    "\n",
    "    # Pad rank vectors with zeros (from front w/ ranks1, \n",
    "    # from back w/ ranks2); equivalent to shifting\n",
    "    padded_ranks1 = np.append(ranks1, np.zeros(lag))\n",
    "    padded_ranks2 = np.insert(ranks2, 0, np.zeros(lag))\n",
    "\n",
    "    # Normalization constant\n",
    "    num_valid = float(len(ranks1) - lag - num_zeros)\n",
    "\n",
    "    return np.dot(padded_ranks1, padded_ranks2) / num_valid\n",
    "\n",
    "def largest_dot_normalized(ranks1, ranks2, min_lag=0, max_lag=12, use_zeros=False):\n",
    "    \"\"\"\n",
    "    Returns the largest normalized dot product of the two rank vectors\n",
    "    across all possible lags specified by `min_lag` and `max_lag`. \n",
    "    Inclusive of both `min_lag` and `max_lag`.\n",
    "    \"\"\"\n",
    "    # Used to get the dot normalized for provided arguments, varying lag\n",
    "    def dot_normalized_call(lag):\n",
    "        return dot_normalized(ranks1, ranks2, lag, use_zeros)\n",
    "\n",
    "    dots = list(map(dot_normalized_call, range(min_lag, max_lag + 1)))\n",
    "    return np.amax(dots)\n",
    "\n",
    "def simulate(ranks1, ranks2, num_trials=10000, min_lag=0, max_lag=12, use_zeros=False):\n",
    "    \"\"\"\n",
    "    Given two rank vectors, repeatedly permutes ranks and gets \n",
    "    the largest normalized dot product. Return all simulated values.\n",
    "    Like `dot_normalized()`, this assumes we are shifting `rank2`\n",
    "    forward.\n",
    "    \"\"\"\n",
    "    # Used to simulate a single trial. The input is not used\n",
    "    def simulate_single_trial(_):\n",
    "        np.random.shuffle(ranks1)\n",
    "        return largest_dot_normalized(ranks1, ranks2, min_lag, max_lag, use_zeros)\n",
    "    \n",
    "    # Make a copy for ranks1 because np.random.shuffle is in place\n",
    "    ranks1 = ranks1.copy()\n",
    "\n",
    "    return np.array(list(map(simulate_single_trial, range(num_trials))))\n",
    "\n",
    "def p_value(dist, observed):\n",
    "    \"\"\"\n",
    "    Given an empirical distribution `dist`, this function returns the\n",
    "    probability of seeing `observed` or larger (i.e. this is one-sided).\n",
    "    The empirical `dist`, for instance, would look like the return of\n",
    "    the `simulate` function above.\n",
    "    \"\"\"\n",
    "    return np.sum(dist >= observed) / float(len(dist))\n"
   ]
  },
  {
   "cell_type": "code",
   "execution_count": 2,
   "metadata": {
    "collapsed": false
   },
   "outputs": [
    {
     "name": "stdout",
     "output_type": "stream",
     "text": [
      "CPU times: user 5.82 s, sys: 40.8 ms, total: 5.86 s\n",
      "Wall time: 5.95 s\n"
     ]
    }
   ],
   "source": [
    "%%time\n",
    "\n",
    "a = np.arange(1, 457)\n",
    "b = np.arange(1, 457)\n",
    "np.random.shuffle(b)\n",
    "og_b = b.copy()\n",
    "allsim = simulate(a, b)"
   ]
  },
  {
   "cell_type": "code",
   "execution_count": 3,
   "metadata": {
    "collapsed": false
   },
   "outputs": [
    {
     "data": {
      "image/png": "[encoded data removed]",
      "text/plain": [
       "<matplotlib.figure.Figure at 0x10651fd68>"
      ]
     },
     "metadata": {},
     "output_type": "display_data"
    }
   ],
   "source": [
    "import matplotlib.pyplot as plt\n",
    "\n",
    "og = largest_dot_normalized(a, b)\n",
    "plt.hist(allsim, bins = 'auto')\n",
    "plt.axvline(x = og, color = 'red')\n",
    "plt.show()"
   ]
  },
  {
   "cell_type": "code",
   "execution_count": 21,
   "metadata": {
    "collapsed": false
   },
   "outputs": [
    {
     "data": {
      "text/plain": [
       "69540.166666666672"
      ]
     },
     "execution_count": 21,
     "metadata": {},
     "output_type": "execute_result"
    }
   ],
   "source": [
    "np.dot(a, a) / 456."
   ]
  },
  {
   "cell_type": "code",
   "execution_count": 4,
   "metadata": {
    "collapsed": false
   },
   "outputs": [
    {
     "data": {
      "text/plain": [
       "34884.333333333336"
      ]
     },
     "execution_count": 4,
     "metadata": {},
     "output_type": "execute_result"
    }
   ],
   "source": [
    "np.dot(a, np.flip(a, axis=0)) / 456."
   ]
  },
  {
   "cell_type": "code",
   "execution_count": 5,
   "metadata": {
    "collapsed": false
   },
   "outputs": [
    {
     "data": {
      "image/png": "[encoded data removed]",
      "text/plain": [
       "<matplotlib.figure.Figure at 0x1170d19b0>"
      ]
     },
     "metadata": {},
     "output_type": "display_data"
    },
    {
     "data": {
      "image/png": "[encoded data removed]",
      "text/plain": [
       "<matplotlib.figure.Figure at 0x1171eca58>"
      ]
     },
     "metadata": {},
     "output_type": "display_data"
    }
   ],
   "source": [
    "t=np.arange(100)\n",
    "\n",
    "e1 = np.random.randn(100)\n",
    "\n",
    "water1 = 1000-0.1*(t-40)**2+20*e1\n",
    "\n",
    "plt.plot(water1)\n",
    "plt.show()\n",
    "\n",
    "def get_eq(water):\n",
    "    eq = np.array([np.random.poisson(np.exp(np.random.randn(1))*(0.0001+0.0005*water[i])) \n",
    "                   for i in range(len(water))])\n",
    "#     plt.plot(eq)\n",
    "#     plt.show()\n",
    "    return eq\n",
    "\n",
    "eq1=get_eq(water1)\n",
    "plt.plot(eq1)\n",
    "plt.show()\n"
   ]
  },
  {
   "cell_type": "code",
   "execution_count": 6,
   "metadata": {
    "collapsed": false
   },
   "outputs": [
    {
     "ename": "NameError",
     "evalue": "name 'rankdata' is not defined",
     "output_type": "error",
     "traceback": [
      "\u001b[0;31m---------------------------------------------------------------------------\u001b[0m",
      "\u001b[0;31mNameError\u001b[0m                                 Traceback (most recent call last)",
      "\u001b[0;32m<ipython-input-6-5cee6a77fef2>\u001b[0m in \u001b[0;36m<module>\u001b[0;34m()\u001b[0m\n\u001b[0;32m----> 1\u001b[0;31m \u001b[0meq_ranks\u001b[0m \u001b[0;34m=\u001b[0m \u001b[0mrankdata\u001b[0m\u001b[0;34m(\u001b[0m\u001b[0meq1\u001b[0m\u001b[0;34m)\u001b[0m\u001b[0;34m\u001b[0m\u001b[0m\n\u001b[0m\u001b[1;32m      2\u001b[0m \u001b[0mwater_ranks\u001b[0m \u001b[0;34m=\u001b[0m \u001b[0mrankdata\u001b[0m\u001b[0;34m(\u001b[0m\u001b[0mwater1\u001b[0m\u001b[0;34m)\u001b[0m\u001b[0;34m\u001b[0m\u001b[0m\n\u001b[1;32m      3\u001b[0m \u001b[0ms\u001b[0m \u001b[0;34m=\u001b[0m \u001b[0msimulate\u001b[0m\u001b[0;34m(\u001b[0m\u001b[0meq_ranks\u001b[0m\u001b[0;34m,\u001b[0m \u001b[0mwater_ranks\u001b[0m\u001b[0;34m)\u001b[0m\u001b[0;34m\u001b[0m\u001b[0m\n\u001b[1;32m      4\u001b[0m \u001b[0mog\u001b[0m \u001b[0;34m=\u001b[0m \u001b[0mlargest_dot_normalized\u001b[0m\u001b[0;34m(\u001b[0m\u001b[0meq_ranks\u001b[0m\u001b[0;34m,\u001b[0m \u001b[0mwater_ranks\u001b[0m\u001b[0;34m)\u001b[0m\u001b[0;34m\u001b[0m\u001b[0m\n\u001b[1;32m      5\u001b[0m \u001b[0mplt\u001b[0m\u001b[0;34m.\u001b[0m\u001b[0mhist\u001b[0m\u001b[0;34m(\u001b[0m\u001b[0ms\u001b[0m\u001b[0;34m,\u001b[0m \u001b[0mbins\u001b[0m \u001b[0;34m=\u001b[0m \u001b[0;34m'auto'\u001b[0m\u001b[0;34m)\u001b[0m\u001b[0;34m\u001b[0m\u001b[0m\n",
      "\u001b[0;31mNameError\u001b[0m: name 'rankdata' is not defined"
     ]
    }
   ],
   "source": [
    "eq_ranks = rankdata(eq1)\n",
    "water_ranks = rankdata(water1)\n",
    "s = simulate(eq_ranks, water_ranks)\n",
    "og = largest_dot_normalized(eq_ranks, water_ranks)\n",
    "plt.hist(s, bins = 'auto')\n",
    "plt.axvline(x = og, color = 'red')\n",
    "plt.show()"
   ]
  },
  {
   "cell_type": "code",
   "execution_count": null,
   "metadata": {
    "collapsed": false
   },
   "outputs": [],
   "source": [
    "%%time\n",
    "t=np.arange(100)\n",
    "# e1 = np.random.randn(100)\n",
    "# water1 = 1000-0.03*(t-40)**2+20*e1\n",
    "water2 = np.append(1000-5*np.arange(40)+50*np.random.randn(40), np.zeros(60))\n",
    "eq1=get_eq(water2)\n",
    "\n",
    "eq_ranks = rankdata(eq1)\n",
    "water_ranks = rankdata(water2)\n",
    "s = simulate(eq_ranks, water_ranks)\n",
    "og = largest_dot_normalized(eq_ranks, water_ranks)\n",
    "print(p_value(s, og))\n",
    "plt.hist(s, bins = 'auto')\n",
    "plt.axvline(x = og, color = 'red')\n",
    "plt.show()"
   ]
  },
  {
   "cell_type": "code",
   "execution_count": null,
   "metadata": {
    "collapsed": false
   },
   "outputs": [],
   "source": [
    "p_value(s, og)"
   ]
  },
  {
   "cell_type": "code",
   "execution_count": null,
   "metadata": {
    "collapsed": false
   },
   "outputs": [],
   "source": [
    "%%time\n",
    "a = np.arange(1, 451)\n",
    "b = np.arange(1, 451)\n",
    "avg = np.mean(a)\n",
    "var = np.var(a)\n",
    "\n",
    "def calc(x, y):\n",
    "    cov = np.sum((x - avg) * (y - avg)) / 450.\n",
    "    return cov / var\n",
    "\n",
    "def calc_all(x, y):\n",
    "    all_lags = [calc(x, y)]\n",
    "    all_lags.extend(list(map(lambda i: calc(x[:-i], y[i:]), range(1, 450))))\n",
    "    return all_lags\n",
    "\n",
    "lags = np.zeros(450)\n",
    "for i in range(100000):\n",
    "    np.random.shuffle(a)\n",
    "    bleh = calc_all(a, b)\n",
    "    lags[np.argmax(bleh)] += 1"
   ]
  },
  {
   "cell_type": "code",
   "execution_count": 7,
   "metadata": {
    "collapsed": false
   },
   "outputs": [
    {
     "ename": "NameError",
     "evalue": "name 'lags' is not defined",
     "output_type": "error",
     "traceback": [
      "\u001b[0;31m---------------------------------------------------------------------------\u001b[0m",
      "\u001b[0;31mNameError\u001b[0m                                 Traceback (most recent call last)",
      "\u001b[0;32m<ipython-input-7-601783844f4e>\u001b[0m in \u001b[0;36m<module>\u001b[0;34m()\u001b[0m\n\u001b[1;32m      2\u001b[0m \u001b[0;32mimport\u001b[0m \u001b[0mmatplotlib\u001b[0m\u001b[0;34m.\u001b[0m\u001b[0mpyplot\u001b[0m \u001b[0;32mas\u001b[0m \u001b[0mplt\u001b[0m\u001b[0;34m\u001b[0m\u001b[0m\n\u001b[1;32m      3\u001b[0m \u001b[0;34m\u001b[0m\u001b[0m\n\u001b[0;32m----> 4\u001b[0;31m \u001b[0mplt\u001b[0m\u001b[0;34m.\u001b[0m\u001b[0mplot\u001b[0m\u001b[0;34m(\u001b[0m\u001b[0mlags\u001b[0m\u001b[0;34m[\u001b[0m\u001b[0;36m12\u001b[0m\u001b[0;34m:\u001b[0m\u001b[0;34m]\u001b[0m\u001b[0;34m)\u001b[0m\u001b[0;34m\u001b[0m\u001b[0m\n\u001b[0m\u001b[1;32m      5\u001b[0m \u001b[0mplt\u001b[0m\u001b[0;34m.\u001b[0m\u001b[0mshow\u001b[0m\u001b[0;34m(\u001b[0m\u001b[0;34m)\u001b[0m\u001b[0;34m\u001b[0m\u001b[0m\n",
      "\u001b[0;31mNameError\u001b[0m: name 'lags' is not defined"
     ]
    }
   ],
   "source": [
    "import matplotlib.mlab as mlab\n",
    "import matplotlib.pyplot as plt\n",
    "\n",
    "plt.plot(lags[12:])\n",
    "plt.show()"
   ]
  },
  {
   "cell_type": "code",
   "execution_count": 348,
   "metadata": {
    "collapsed": false
   },
   "outputs": [],
   "source": [
    "def block_permute(ts, start, length): \n",
    "    \"\"\"\n",
    "    Each block is defined by the start point and length. \n",
    "    The possible starting points have to be from beginining to the length of the block \n",
    "    If starts in the middle and the n - l points aren't the multiple of length of the block, cut off the start\n",
    "    and the end of the array\n",
    "\n",
    "    Args:\n",
    "        ts      (1D np.array)  : Time series(eg earthquake)\n",
    "        start   (int)          : Start point of the block \n",
    "        length  (int)          : Length of the block \n",
    "        \n",
    "    Returns:\n",
    "        1D Array permuted block of time\n",
    "    \"\"\"\n",
    "    assert np.any(ts[:length] == ts[start-1]), \\\n",
    "        \"Starting point of the block is too far.\"\n",
    "    assert length < len(ts),\\\n",
    "    \"Block size too big\"\n",
    "    nb_blocks = np.floor((len(ts) - len(ts[: (start + length-1)]))/length +1)\n",
    "    assert nb_blocks > 1, \"block size is too big\"\n",
    "    nb_blocks = np.floor((len(ts) - len(ts[: (start + length-1)]))/length) +1\n",
    "    end = int(start -1 + nb_blocks * length)\n",
    "\n",
    "    shuffle_ts = ts[(start -1):end]\n",
    "    shuffle_blocks = shuffle_ts.reshape(len(shuffle_ts)//length, length)\n",
    "    np.random.shuffle(shuffle_blocks)\n",
    "    return shuffle_blocks.ravel()\n",
    "\n",
    "    \n",
    "    \n",
    "    "
   ]
  }
 ],
 "metadata": {
  "anaconda-cloud": {},
  "kernelspec": {
   "display_name": "Python [default]",
   "language": "python",
   "name": "python3"
  },
  "language_info": {
   "codemirror_mode": {
    "name": "ipython",
    "version": 3
   },
   "file_extension": ".py",
   "mimetype": "text/x-python",
   "name": "python",
   "nbconvert_exporter": "python",
   "pygments_lexer": "ipython3",
   "version": "3.5.2"
  }
 },
 "nbformat": 4,
 "nbformat_minor": 1
}
