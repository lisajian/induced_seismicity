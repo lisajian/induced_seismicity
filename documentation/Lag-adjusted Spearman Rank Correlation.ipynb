{
 "cells": [
  {
   "cell_type": "markdown",
   "metadata": {},
   "source": [
    "# Discussion of Lag-Adjusted Spearman Rank Correlation\n",
    "** Derivation of the lag-adjusted Spearman Rank Correlation Test **"
   ]
  },
  {
   "cell_type": "markdown",
   "metadata": {},
   "source": [
    "### Motivation\n",
    "Since we know that if wastewater injection induces seismicity, the effect of injection on seismicity will occur at some lag $\\geq$ 0 months. If the lag is > 0 (e.g. if wastewater injection causes increased seismicity at least 1 month in the future), then we expect seismicity to depend on past water injection. The purpose of creating adjusting the Spearman Rank Correlation by a particular lag is to quantify correlation if it occurs at lag > 0. "
   ]
  },
  {
   "cell_type": "markdown",
   "metadata": {},
   "source": [
    "### The Test\n",
    "Spearman's rank correlation can be proved to be defined as follows: \n",
    "\n",
    "$$r_s = 1 - \\frac{6D}{N^3-N}$$ \n",
    "\n",
    "where $r_s$ is the rank correlation, $N$ is the total number of observations in the sample and $D$ is defined as follows: \n",
    "\n",
    "$$ D = \\frac{1}{3}N(N+1)(2N+1) - 2\\sum{iT_i} $$ \n",
    "\n",
    "where $i$ is defined as the index of one of the lists and $T_i$ is the rank of observation $i$ in one of the lists. \n",
    "\n",
    "Therefore, a statistical test could be defined where the null hypothesis $H_0$ is $r_s \\neq 0$. Since the only non-constant in the equation is $\\sum{iT_i}$, it would be sufficient to reject $H_0$ for large values of $\\sum{iT_i}$. To generate a p-value for this test, the original $\\sum{iT_i}$ can be compared to all permutations of $T_i$ (since under the null hypothesis it would be equally likely to see any rank $T_i$ to be paired with any $i$). \n",
    "\n",
    "Adjusting this test for different lags would simply mean shifting the two lists of ranks by some lag $k$ and running the above method with $N-k$ observations. However, since N changes with the lag, it is easiest to simply compute $r_s$, the Spearman rank correlation, as the test statistic. "
   ]
  },
  {
   "cell_type": "markdown",
   "metadata": {},
   "source": [
    "### Simple Examples\n",
    "In this section, we present simple numerical examples using the Spearman Rank Correlation Test and our lag-adjusted SRCT test. First, we begin with two completely linearly dependent lists. Then, we change the dependency by introducing a lagged dependency with lag correlation = 1. "
   ]
  },
  {
   "cell_type": "markdown",
   "metadata": {},
   "source": [
    "**Two completely linearly dependent lists**"
   ]
  },
  {
   "cell_type": "code",
   "execution_count": 111,
   "metadata": {
    "collapsed": true
   },
   "outputs": [],
   "source": [
    "# import relevant modules\n",
    "import numpy as np\n",
    "import scipy as sp\n",
    "import matplotlib as mpl\n",
    "import matplotlib.pyplot as plt\n",
    "\n",
    "from scipy.stats import rankdata\n",
    "from scipy.stats import spearmanr\n",
    "from sympy.utilities.iterables import multiset_permutations\n",
    "from statsmodels.stats import multitest\n",
    "\n",
    "# create our two dependent lists\n",
    "x = np.array(list(range(1,11,2))) # 1-11 odds\n",
    "y = np.array(x+1) # y = x+1\n",
    "\n",
    "# convert to ranks\n",
    "x_ranked = rankdata(x)\n",
    "y_ranked = rankdata(y)"
   ]
  },
  {
   "cell_type": "code",
   "execution_count": 124,
   "metadata": {},
   "outputs": [
    {
     "name": "stdout",
     "output_type": "stream",
     "text": [
      "p-value:  0.00833333333333\n"
     ]
    }
   ],
   "source": [
    "# get dot product\n",
    "xy_dot = np.dot(x_ranked, y_ranked)\n",
    "\n",
    "# get an array of all possible dot products when shuffling one rank\n",
    "x_ranked_perm = multiset_permutations(x_ranked)\n",
    "\n",
    "# for each permutation, calculate and store dot product\n",
    "xy_dot_perm = list()\n",
    "for perm in x_ranked_perm:\n",
    "    xy_dot_perm.append(np.dot(perm, y_ranked))\n",
    "    \n",
    "# compare original dot product to all permutations\n",
    "p_value = sum(xy_dot_perm >= xy_dot) / len(xy_dot_perm)\n",
    "print(\"p-value: \", p_value)"
   ]
  },
  {
   "cell_type": "markdown",
   "metadata": {},
   "source": [
    "** Two linearly dependent lagged lists **"
   ]
  },
  {
   "cell_type": "code",
   "execution_count": 21,
   "metadata": {
    "collapsed": true
   },
   "outputs": [],
   "source": [
    "# create our two dependent (with lag = 2) lists\n",
    "x = np.array(list(range(1,15,2))) # 1-15 odds\n",
    "y = np.append([0,0], list(x[0:len(x)-2]+1))  # y = x_{t-2} + 1\n",
    "\n",
    "# taking the lag dot product is equivalent to shifting the lists\n",
    "x = x[:5]\n",
    "y = y[2:]\n",
    "\n",
    "# convert to ranks\n",
    "x_ranked = rankdata(x)\n",
    "y_ranked = rankdata(y)"
   ]
  },
  {
   "cell_type": "code",
   "execution_count": 22,
   "metadata": {},
   "outputs": [
    {
     "name": "stdout",
     "output_type": "stream",
     "text": [
      "p-value:  0.00833333333333\n"
     ]
    }
   ],
   "source": [
    "# get dot product\n",
    "xy_dot = np.dot(x_ranked, y_ranked)\n",
    "\n",
    "# get an array of all possible dot products when shuffling one rank\n",
    "x_ranked_perm = multiset_permutations(x_ranked)\n",
    "\n",
    "# for each permutation, calculate and store dot product\n",
    "xy_dot_perm = list()\n",
    "for perm in x_ranked_perm:\n",
    "    xy_dot_perm.append(np.dot(perm, y_ranked))\n",
    "    \n",
    "# compare original dot product to all permutations\n",
    "p_value = sum(xy_dot_perm >= xy_dot) / len(xy_dot_perm)\n",
    "print(\"p-value: \", p_value)"
   ]
  },
  {
   "cell_type": "markdown",
   "metadata": {},
   "source": [
    "### More complicated cases\n",
    "If the lag dependency is known, it has been shown to be easy to calculate the appropriate SRCT. However, what if the lag is not known? This section will discuss techniques for this case. Code and numerical examples follow.\n",
    "\n",
    "** Method 1: Compare the maximum normalized dot products across each permutation **\n",
    "\n",
    "1. Compute the Spearman rank correlation (rho) for every lag in a certain window (say, $k = 0,1,...,12$).\n",
    "2. Take the maximum.\n",
    "3. Repeat (1)-(2) for each permutation to form a list of length $N!$.\n",
    "4. Compare the original rho to the list generated in (3) to find a p-value.\n",
    "\n",
    "** Method 2: Search for optimal lag by computing p-values for each lag **\n",
    "\n",
    "1. For each lag in a certain window, compute the Spearman rank correlation.\n",
    "2. Repeat (1) for each permutation.\n",
    "3. Compute p-values for each lag. \n",
    "4. Use the Holm–Bonferroni method to compare p-values. "
   ]
  },
  {
   "cell_type": "code",
   "execution_count": 126,
   "metadata": {
    "collapsed": true
   },
   "outputs": [],
   "source": [
    "def spearman_lag(list1, list2, lag=0, use_zeros=False):\n",
    "    \"\"\"\n",
    "    Shifts `list2` backward by `lag` number of entries.\n",
    "    Removes the tail ends of the rank vectors that fall off\n",
    "    after shifting. Then returns the Spearman rank correlation.\n",
    "    For instance, suppose\n",
    "         list1  = [1, 2, 3, 4]\n",
    "         list2  = [4, 3, 2, 1]\n",
    "         lag     = 2.\n",
    "    After shifting and removing the fall off, we have\n",
    "         list1' = [1, 2]\n",
    "         list2' = [2, 1]\n",
    "\n",
    "    Assumes that len(list1) == len(list2) and all ranks\n",
    "    are non-negative.\n",
    "\n",
    "    Args:\n",
    "        list1    (1D np.array) : First dataset\n",
    "        list2    (1D np.array) : Second dataset\n",
    "        lag       (int)         : Number of entries to shift\n",
    "        use_zeros (bool)        : Use zeros in rank vectors\n",
    "                                  for normalizing\n",
    "    Returns:\n",
    "        Spearman's rho coefficient\n",
    "    \"\"\"\n",
    "    assert len(list1) == len(list2), \\\n",
    "           \"Vectors are not the same length\"\n",
    "\n",
    "    # Count the number of entries that would be zeroed out\n",
    "    # in either vector\n",
    "    num_zeros = 0\n",
    "    if not use_zeros:\n",
    "        num_zeros = np.sum((list1 * list2) == 0)\n",
    "\n",
    "    # Shift vectors\n",
    "    list1_shift = list1[:(len(list2)-lag)]\n",
    "    list2_shift = list2[lag:]\n",
    "    \n",
    "#     # Compute Spearman's rho coefficient\n",
    "#     N = len(ranks1_shift)\n",
    "#     D = (1/3) * N * (N+1) * (2*N+1) - 2*np.dot(ranks1_shift, ranks2_shift)\n",
    "#     rho = 1 - (6*D)/(N**3 - N)\n",
    "    \n",
    "    rho = spearmanr(list1_shift, list2_shift)[0]\n",
    "    \n",
    "    return rho\n",
    "\n",
    "def largest_rho(list1, list2, min_lag=0, max_lag=12, use_zeros=False):\n",
    "    \"\"\"\n",
    "    Computes largest rho for all lags specified by `min_lag` and `max_lag` inclusive. \n",
    "    \"\"\"\n",
    "    rhos = [spearman_lag(list1, list2, lag, use_zeros) \\\n",
    "                for lag in range(min_lag, max_lag + 1)]\n",
    "    return np.amax(rhos)\n",
    "\n",
    "def all_rho(list1, list2, min_lag=0, max_lag=12, use_zeros=False):\n",
    "    \"\"\"\n",
    "    Computes all rhos for all lags in range(min_lag, max_lag). \n",
    "    \"\"\"\n",
    "    rhos = [spearman_lag(list1, list2, lag, use_zeros) \\\n",
    "                for lag in range(min_lag, max_lag + 1)]\n",
    "\n",
    "    return rhos\n",
    "\n",
    "def simulate(list1, list2, method, min_lag=0, max_lag=12, use_zeros=False):\n",
    "    \"\"\"\n",
    "\n",
    "    \"\"\"\n",
    "        \n",
    "    # Get all permutations of list1\n",
    "    list1_perm = multiset_permutations(list1)\n",
    "    \n",
    "    # Change output depending on `method`\n",
    "    if method == 1:\n",
    "        \n",
    "        # Store original largest rho\n",
    "        original_rho = largest_rho(list1, list2, min_lag, max_lag, use_zeros)\n",
    "    \n",
    "        # Compute maximum rho for each permutation\n",
    "        largest_rhos = list()\n",
    "        for perm in list1_perm:\n",
    "            largest_rhos.append(largest_rho(perm, list2, min_lag, max_lag, use_zeros))\n",
    "        \n",
    "        # Return a p-value\n",
    "        return sum(largest_rhos >= original_rho) / len(largest_rhos)\n",
    "            \n",
    "    if method == 2:\n",
    "        \n",
    "        # Store original rhos for each lag\n",
    "        original_rhos = all_rho(list1, list2, min_lag, max_lag, use_zeros)\n",
    "        \n",
    "        # Compute all rhos for each permutation\n",
    "        all_rhos = list()\n",
    "        for perm in list1_perm:\n",
    "            all_rhos.append(all_rho(perm, list2, min_lag, max_lag, use_zeros))\n",
    "        all_rhos = np.array(all_rhos)\n",
    "            \n",
    "        # Compute p-values for each lag\n",
    "        p_values = list()\n",
    "        for i in range(len(original_rhos)):\n",
    "            p_values.append(sum(all_rhos[:,i] >= original_rhos[i]) / len(all_rhos))\n",
    "#         print(p_values)\n",
    "        \n",
    "        # Use the Holm-Sidak method to change to appropriate p-value\n",
    "        results = multitest.multipletests(p_values, alpha=0.05, method='hs')\n",
    "        \n",
    "        return(results)\n",
    "        \n",
    "       \n"
   ]
  },
  {
   "cell_type": "markdown",
   "metadata": {},
   "source": [
    "#### Numerical example for Method 1"
   ]
  },
  {
   "cell_type": "code",
   "execution_count": 127,
   "metadata": {},
   "outputs": [
    {
     "name": "stdout",
     "output_type": "stream",
     "text": [
      "Data:\n",
      "[  1.23272539   2.2233734    6.66530854   5.60462647   8.03274885\n",
      "  11.14274239  13.90315368]\n",
      "[-0.23125583 -0.43821268 -3.29607376 -3.80664347  2.80722196  0.9869344\n",
      "  2.69114191]\n",
      "lag = 0:  0.571428571429\n",
      "lag = 1:  0.314285714286\n",
      "lag = 2:  0.8\n",
      "lag = 3:  0.2\n",
      "0.209920634921\n",
      "0.112698412698\n",
      "0.277777777778\n",
      "0.4\n",
      "Wall time: 48.6 s\n"
     ]
    }
   ],
   "source": [
    "%%time\n",
    "## Use the same equations from previous lag-2 dependent processes\n",
    "\n",
    "# create our two dependent (with lag = 2) lists\n",
    "x = np.array(list(range(1,15,2))) + np.random.normal(0,1,7) # 1-19 odds + epsilon\n",
    "y = np.append(np.random.normal(0,1,2), list(x[0:len(x)-2]-5)) + \\\n",
    "        np.random.normal(0,1,7)  # y = x_{t-2} - 5 + epsilon\n",
    "\n",
    "print(\"Data:\")\n",
    "print(x)\n",
    "print(y)\n",
    "\n",
    "print(\"lag = 0: \", spearman_lag(x, y, lag = 0))\n",
    "print(\"lag = 1: \", spearman_lag(x, y, lag = 1))\n",
    "print(\"lag = 2: \", spearman_lag(x, y, lag = 2))\n",
    "print(\"lag = 3: \", spearman_lag(x, y, lag = 3))\n",
    "\n",
    "p0_1 = simulate(x, y, method = 1, min_lag=0, max_lag=1)\n",
    "p0_2 = simulate(x, y, method = 1, min_lag=0, max_lag=2)\n",
    "p0_3 = simulate(x, y, method = 1, min_lag=0, max_lag=3)\n",
    "p0_4 = simulate(x, y, method = 1, min_lag=2, max_lag=4)\n",
    "\n",
    "print(p0_1)\n",
    "print(p0_2)\n",
    "print(p0_3)\n",
    "print(p0_4)"
   ]
  },
  {
   "cell_type": "markdown",
   "metadata": {},
   "source": [
    "#### Numerical example for Method 2"
   ]
  },
  {
   "cell_type": "code",
   "execution_count": 116,
   "metadata": {},
   "outputs": [
    {
     "name": "stdout",
     "output_type": "stream",
     "text": [
      "[0.15119047619047618, 0.087499999999999994]\n",
      "[0.15119047619047618, 0.087499999999999994, 0.0083333333333333332]\n",
      "(array([False, False], dtype=bool), array([ 0.16734375,  0.16734375]), 0.025320565519103666, 0.025)\n",
      "(array([False, False,  True], dtype=bool), array([ 0.16734375,  0.16734375,  0.02479225]), 0.016952427508441503, 0.016666666666666666)\n",
      "Wall time: 18.1 s\n"
     ]
    }
   ],
   "source": [
    "%%time\n",
    "\n",
    "## Use the same equations from previous lag-2 dependent processes\n",
    "\n",
    "# create our two dependent (with lag = 2) lists\n",
    "x = np.array(list(range(1,15,2))) + np.random.normal(0,1,7) # 1-13 odds + epsilon\n",
    "y = np.append(np.random.normal(0,1,2), list(x[0:len(x)-2]-5)) + \\\n",
    "        np.random.normal(0,1,7)  # y = x_{t-2} - 5 + epsilon\n",
    "\n",
    "print(\"Data:\")\n",
    "print(x)\n",
    "print(y)\n",
    "\n",
    "print(\"lag = 0: \", spearman_lag(x, y, lag = 0))\n",
    "print(\"lag = 1: \", spearman_lag(x, y, lag = 1))\n",
    "print(\"lag = 2: \", spearman_lag(x, y, lag = 2))\n",
    "print(\"lag = 3: \", spearman_lag(x, y, lag = 3))\n",
    "\n",
    "p0_1 = simulate(x, y, method = 2, min_lag=0, max_lag=1)\n",
    "p0_2 = simulate(x, y, method = 2, min_lag=0, max_lag=2)\n",
    "p0_3 = simulate(x, y, method = 2, min_lag=0, max_lag=3)\n",
    "p0_4 = simulate(x, y, method = 2, min_lag=2, max_lag=4)\n",
    "\n",
    "print(p0_1)\n",
    "print(p0_2)\n",
    "print(p0_3)\n",
    "print(p0_4)"
   ]
  },
  {
   "cell_type": "code",
   "execution_count": null,
   "metadata": {
    "collapsed": true
   },
   "outputs": [],
   "source": []
  }
 ],
 "metadata": {
  "kernelspec": {
   "display_name": "Python 3",
   "language": "python",
   "name": "python3"
  },
  "language_info": {
   "codemirror_mode": {
    "name": "ipython",
    "version": 3
   },
   "file_extension": ".py",
   "mimetype": "text/x-python",
   "name": "python",
   "nbconvert_exporter": "python",
   "pygments_lexer": "ipython3",
   "version": "3.6.1"
  }
 },
 "nbformat": 4,
 "nbformat_minor": 2
}
