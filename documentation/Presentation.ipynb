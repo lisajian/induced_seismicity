{
 "cells": [
  {
   "cell_type": "markdown",
   "metadata": {
    "slideshow": {
     "slide_type": "slide"
    }
   },
   "source": [
    "# INDUCED SEISMICITY IN CALIFORNIA\n",
    "** Wastewater injection and earthquake activity in California (1980-2017) **"
   ]
  },
  {
   "cell_type": "markdown",
   "metadata": {},
   "source": [
    "## Background and Literature Review"
   ]
  },
  {
   "cell_type": "markdown",
   "metadata": {},
   "source": [
    "#### Wastewater Injection\n",
    "\n",
    "* In the process of oil extraction and recovery, water is used (e.g. in hydraulic facturing (fracking) for natural gas, fluid is pumped into a well to increase pore pressure and create fractures to aid in the extraction of natural gas) and produced as a byproduct. \n",
    "\n",
    "<img src=\"images/ellsworth_wells.jpg\">\n",
    "\n",
    "* The water rises to the surface and must be disposed of. Typically, this water is taken off-site and injected into the ground into an injection well. \n",
    "\n",
    "* Why might this be a concern?\n",
    "    "
   ]
  },
  {
   "cell_type": "markdown",
   "metadata": {},
   "source": [
    "#### Potential Effects\n",
    "\n",
    "* Studies have found that wastewater injection may be inducing earthquakes in the eastern and central U.S.\n",
    "\n",
    "* (Shirzaei 2016) found that in eastern Texas, wastewater injection has caused an increase in seismic activity. They attribute the 4.8 magnitude ($M_w$) earthquake in 2012 to wastewater injection. \n",
    "\n",
    "    * They argue that wastewater injection increases pore pressure in the surrounding geology which can cause faults to move closer to failure.\n",
    "\n",
    "* (Hough 2015) shows a temporal and spatial relationship between wastewater disposal wells and earthquake activity in Oklahoma in the last century. \n",
    "\n",
    "* (Ellsworth 2013) reviews the literature of induced seismicity.\n",
    "    * $M_w$ 4.0 in Ohio, December 2011 [1]\n",
    "    * $M_w$ 4.7 in Arkansas, February 2011 [2]\n",
    "    * $M_w$ 4.4 in Texas, September 2011 [3]\n",
    "    * $M_w$ 4.8 in Texas, October 2011 [4]\n",
    "\n",
    "[1]: W.-Y. Kim, Induced seismicity associated with fluid injection into a deep well in Youngstown, Ohio. J. Geophys. Res. 10.1002/jgrb.50247 (2013).\n",
    "\n",
    "[2]: S. Horton, Disposal of hydrofracking waste fluid by injection into subsurface aquifers triggers earthquake swarm in central Arkansas with potential for damaging earthquake. Seismol. Res. Lett. 83, 250–260 (2012). doi: 10.1785/gssrl.83.2.250\n",
    "\n",
    "[3]: S. D. Davis, W. D. Pennington, Induced seismic deformation in the Cogdell oil field of west Texas. Bull. Seismol. Soc. Am. 79, 1477–1495 (1989).\n",
    "\n",
    "[4]: W. D. Pennington, S. D. Davis, The evolution of seismic barriers and asperities caused by the depressuring of fault planes in oil and gas fields of south Texas. Bull. Seismol. Soc. Am. 76, 939–948 (1986)."
   ]
  },
  {
   "cell_type": "markdown",
   "metadata": {},
   "source": [
    "<img src=\"images/ellsworth_eq_time.jpg\">"
   ]
  },
  {
   "cell_type": "markdown",
   "metadata": {},
   "source": [
    "#### Statement from OGS\n",
    "\n",
    "The Oklahoma Geological Survey released a statement in 2015 that acknowledges the increase of seismic activity due to increases in wastewater injection.\n",
    "\n",
    "* \"Based on observed seismicity rates and geographical trends...the rates and trends in seismicity are very unlikely to represent a naturally occurring process.\" \n",
    "\n",
    "* \"The seismicity rate is now about 600\ttimes greater\tthan the background seismicity rate\"\n"
   ]
  },
  {
   "cell_type": "markdown",
   "metadata": {},
   "source": [
    "#### Conclusion\n",
    "\n",
    "Given what has been observed in Oklahoma and other states in the central/eastern U.S., what can we say about the relationship between wastewater injection and seismicity? Can we say that wastewater injection causes earthquakes?"
   ]
  },
  {
   "cell_type": "markdown",
   "metadata": {},
   "source": [
    "#### Conclusion\n",
    "\n",
    "Probably not.\n",
    "\n",
    "The mechanism for seismicity induced by wastewater is complicated and many questions remain.\n",
    "\n",
    "* How does the effect of wastewater injection depend on geology?\n",
    "* What are the expected time horizons? \n",
    "* What is the \"threshold\" of wastewater needed?\n",
    "* Does rate of injection matter? (data not available)\n",
    "* How does existing background rate affect potential for induced seismicity?\n",
    "\n",
    "Especially due to differences in geology and background rate, the results in Oklahoma are not automatically externally valid.\n"
   ]
  },
  {
   "cell_type": "markdown",
   "metadata": {},
   "source": [
    "#### Why California?\n",
    "\n",
    "(Goebel)\n",
    "\n",
    "* Higher injection volumes\n",
    "* But also higher background activity\n",
    "\n",
    "<img src=\"images/goebel.jpg\">"
   ]
  },
  {
   "cell_type": "markdown",
   "metadata": {},
   "source": [
    "#### Why California?\n",
    "\n",
    "Up for debate!\n",
    "\n",
    "There is no consensus for whether or not there is some casual relationship between wastewater injection and seismic activity in California.\n",
    "\n",
    "* (Goebel 2015) and (Goebel 2016) show no relationship in general for California and some relationship for an earthquake swarm in the Central Valley.\n",
    "\n",
    "* (McClure 2017) shows a strong relationship in Oklahoma and a weak relationship in California.\n"
   ]
  },
  {
   "cell_type": "markdown",
   "metadata": {},
   "source": [
    "#### Geography - Injection and Earthquake Activity\n",
    "\n",
    "[insert plot of California with wells, earthquakes, grid]"
   ]
  },
  {
   "cell_type": "markdown",
   "metadata": {},
   "source": [
    "#### Discussion of McClure (2017)\n",
    "\n",
    "** Methodology **\n",
    "\n",
    "* Divides California into a grid of approximately 0.2 x 0.2 degrees longitude/latitude.\n",
    "* Tests associations between water injections and earthquakes within each block.\n",
    "* Defines a model for natural and induced seismicity: \n",
    "\n",
    "$$ y_{ij} = \\text{Poi}(e^{\\mathcal{N}(0, \\sigma_i)}(\\mu_i + \\beta_ix_{ij}) + ay_{i,j-1}e^{\\mathcal{N}(0,\\sigma_{II})}) $$ \n",
    "\n",
    "where $y_{ij}$ is the number of earthquakes in block $i$ and year $j$; $x_{ij}$ is the cummulative water injected; $\\sigma_i$ is a measure for the variance of seismicity; $\\mu_{ij}$ is the rate of natural seismicity; $\\beta_i$ is the dependency on water volume; $a$ is the degree to which earthquakes cluster; and $\\sigma{II}$ is the variability of the clustering.\n",
    "\n",
    "* For each block, the maximum likelihood values for tttttttttttoooooooooooooodooooooo are fitted for two models: one with $\\beta_i = 0$ and one where $\\beta_i$ is estimated. \n",
    "\n",
    "* The likelihood ratio of the two models is then taken. The null distribution of the likelihood ratio is computed non-parametrically by permuting the water injections between blocks and introducing a random time offset. \n",
    "\n",
    "* P-values are calculated and aggregated across blocks using Fisher's method (Fisher's combined test). \n",
    "\n",
    "\n"
   ]
  },
  {
   "cell_type": "markdown",
   "metadata": {},
   "source": [
    "#### Findings\n",
    "\n",
    "(McClure 2017) concluded "
   ]
  }
 ],
 "metadata": {
  "kernelspec": {
   "display_name": "Python 3",
   "language": "python",
   "name": "python3"
  },
  "language_info": {
   "codemirror_mode": {
    "name": "ipython",
    "version": 3
   },
   "file_extension": ".py",
   "mimetype": "text/x-python",
   "name": "python",
   "nbconvert_exporter": "python",
   "pygments_lexer": "ipython3",
   "version": "3.6.1"
  }
 },
 "nbformat": 4,
 "nbformat_minor": 2
}
