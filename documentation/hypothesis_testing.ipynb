{
 "cells": [
  {
   "cell_type": "markdown",
   "metadata": {},
   "source": [
    "# Hypothesis Testing Discussion\n",
    "** Review of Spearman's Rank Correlation and related statistics + Proposal of related statistic **"
   ]
  },
  {
   "cell_type": "markdown",
   "metadata": {},
   "source": [
    "References: \n",
    "\n",
    "- Lehmann, E.L. (1998). Nonparametrics: Statistical Methods Based on Ranks, Prentice Hall, Upper Saddle River, NJ.\n",
    "- Stark, Phillip. https://www.stat.berkeley.edu/~stark/Teach/S240/Notes/ch7.htm"
   ]
  },
  {
   "cell_type": "markdown",
   "metadata": {},
   "source": [
    "### Null Hypothesis\n",
    "Under the assumption that wastewater injection does not cause earthquakes, we expect water injection rates and seismicity to be independent. Therefore, we have proposed the following null hypothesis, $H_0$: seismicity should not have an upward trend with injection rates for any lag $k$ in $k=1,2,...,12$ where lag is defined as a shift in time series in months (i.e. for $k=1$ we compare observations of water injections at time $t$ with observations of earthquakes at time $t+1$. \n"
   ]
  },
  {
   "cell_type": "markdown",
   "metadata": {},
   "source": [
    "### Background\n",
    "\n",
    "From (Lehmann), the following test statistic is proposed to test for an upward trend using ranks: \n",
    "\n",
    "Let $T_i$ and $T_j$ denote two separate lists of ranks with $i$ and $j$ denoting the indices of the ranks from $1,...,N$. Then, we can define the test statistic $$ D'' = \\sum_{i<j}{U_{ij}}$$ where \n",
    "\n",
    "$$ U_{ij} = \\begin{cases} \n",
    "                  1 & T_i < T_j \\\\\n",
    "                  0 & otherwise \n",
    "                 \\end{cases}$$\n",
    "                 \n",
    "(Lehmann) then proposes the related statistic\n",
    "$$ D' = \\sum_{i<j}{(j-i)U_{ij}} $$\n",
    "It can be shown that $D'$ is rejected when \n",
    "$$ D = \\frac{1}{3}N(N+1)(2N+1) - 2\\sum{iT_i} $$\n",
    "is rejected.\n",
    "\n",
    "Therefore, it is easy to see that fixing for N, the null hypothesis is rejected for small values of $\\sum{iT_i}$. Further math shows that, given a fixed N, an equivalent test statistic is Spearman's rank correlation coefficient since: $$r_s = 1 - \\frac{6D}{N^3-N}$$\n",
    "\n"
   ]
  },
  {
   "cell_type": "markdown",
   "metadata": {},
   "source": [
    "### Discussion and Adaptation\n",
    "The test statistic $D''$ counts the number of ranks where $T_j > T_i$ for all forward lags $j > i$. In other words, for every index $i$, all forward lags are examined and the number of ranks in this subset greater than $T_i$ are counted with equal weight.\n",
    "\n",
    "**Does this make sense as a test statistic for our null hypothesis? Under our null hypothesis:**\n",
    "* We state that there is no upward trend of earthquakes with injections\n",
    "    * Our test statistic $D''$ increases when there are more observations (earthquakes) in periods with high treatment (water injection). To see this, observe that the test statistic is invariant under permutation of pairs $(i,j)$ so ordering the pairs by, for example, $T_i$ yields:\n",
    "    \n",
    "    $$(1,T_1), (2,T_2),...,(T_i, T_j),...,(N, T_N)$$ \n",
    "    \n",
    "    where it is easy to see $D''$ is maximized when $T_j$ is also in increasing order $1,2,...,N$.\n",
    "    \n",
    "    * However, this is different from our null hypothesis since it is not obviously clear that \"upward trend\" and counting higher ranks are sufficiently equivalent. Take, for example, $X$ and $Y$ of the same length $N=5$ with ranks $T_i$ and $T_j$ respectively. Now say for $i=3$, $T_i = 1$; and for $j=(4,5)$, $T_j = (2,3)$. Here, $D''_1 = \\sum_{3<j}{U_{3j}} = 2$ but, now instead let $j=(4,5)$, $T_j = (1,5)$. Here, $D''_2 = \\sum_{3<j}{U_{3j}} = 1$ but it is not clear that the first test statistic *should* be higher than the second example. \n",
    "\n",
    "\n",
    "* We state that we care about only lags $k = 1,...,12$. \n",
    "    * $\\sum_{i<j}{U_{ij}}$ looks at all $j>i$, not just $i<j\\leq i+12$\n",
    "\n",
    "**How can we adjust the test statistic to make it fit our null hypothesis?**\n",
    "* We can take into account the difference in ranks $T_j - T_i$ so bigger differences later have more effect. This is equivalent to changing the test statistic to $\\sum_{i<j}{(T_j-T_i)U_{ij}}$. Now under the previous example, $D''_1 = 3$ and $D''_2 = 4$. This more accurately fits the kind of \"upward trend\" we want to test for. Additionally, the statistic is still bounded with the same maximum of two lists of ranks that are monotonically increasing. \n",
    "\n",
    "\n",
    "* We can define our new test statistic, $R$, to only look at lags that we care about, $$ R = \\sum_{i<j\\leq i+12}{(T_j-T_i)U_{ij}} $$\n",
    "\n",
    "**What about the test statistic $D'$ that (Lehmann) proposes?**\n",
    "\n",
    "Multiplying $U_{ij}$ by $(j-i)$ implies that *further* lags are weighted *more*. Although using this statistic has the useful quality of reducing the test statistic to a simple dot product and makes a nice equivalency to the Spearman statistic, this statistic does not make sense under our framework. \n"
   ]
  },
  {
   "cell_type": "markdown",
   "metadata": {},
   "source": [
    "### Further Questions\n",
    "* Does it still make sense to \"shift\" the data?"
   ]
  }
 ],
 "metadata": {
  "kernelspec": {
   "display_name": "Python 3",
   "language": "python",
   "name": "python3"
  },
  "language_info": {
   "codemirror_mode": {
    "name": "ipython",
    "version": 3
   },
   "file_extension": ".py",
   "mimetype": "text/x-python",
   "name": "python",
   "nbconvert_exporter": "python",
   "pygments_lexer": "ipython3",
   "version": "3.6.1"
  }
 },
 "nbformat": 4,
 "nbformat_minor": 2
}
